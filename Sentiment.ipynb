{
 "cells": [
  {
   "cell_type": "code",
   "execution_count": null,
   "id": "367f59bf",
   "metadata": {},
   "outputs": [],
   "source": [
    "import sklearn\n",
    "import pandas as pd\n",
    "import numpy as np\n",
    "import matplotlib.pyplot as plt\n",
    "from wordcloud import WordCloud\n",
    "import re\n",
    "# from nltk import word_tokenize"
   ]
  },
  {
   "cell_type": "code",
   "execution_count": null,
   "id": "9e55f24c",
   "metadata": {},
   "outputs": [],
   "source": [
    "tweets = pd.read_csv(\"./Tweets.csv\")"
   ]
  },
  {
   "cell_type": "code",
   "execution_count": null,
   "id": "bdcfe2fc",
   "metadata": {},
   "outputs": [],
   "source": [
    "tweets.head()\n"
   ]
  },
  {
   "cell_type": "code",
   "execution_count": null,
   "id": "2682a444",
   "metadata": {},
   "outputs": [],
   "source": [
    "tweets.info()"
   ]
  },
  {
   "cell_type": "code",
   "execution_count": null,
   "id": "7a24efdb",
   "metadata": {},
   "outputs": [],
   "source": [
    "tweets.shape"
   ]
  },
  {
   "cell_type": "code",
   "execution_count": null,
   "id": "912fee14",
   "metadata": {},
   "outputs": [],
   "source": [
    "#this\n",
    "review_dataset[\"tweet_coord\"].dropna()\n",
    "# or this\n",
    "review_dataset[\"tweet_coord\"][~review_dataset[\"tweet_coord\"].isnull()]\n"
   ]
  },
  {
   "cell_type": "code",
   "execution_count": null,
   "id": "b02074d9",
   "metadata": {},
   "outputs": [],
   "source": [
    "tweets.text.tail()"
   ]
  },
  {
   "cell_type": "markdown",
   "id": "98b962c8",
   "metadata": {},
   "source": [
    "### Word Cloud"
   ]
  },
  {
   "cell_type": "code",
   "execution_count": null,
   "id": "68b7c8d9",
   "metadata": {},
   "outputs": [],
   "source": [
    "from wordcloud import WordCloud, STOPWORDS\n",
    "# Building a word cloud for negative tweet text\n",
    "negative_tweets = tweets[\"text\"][tweets[\"airline_sentiment\"] ==\"negative\"]\n",
    "joined_negative_tweets = \"\".join(negative_tweets)\n",
    "\n",
    "my_stop_words = set(STOPWORDS)\n",
    "# reg = r\"@\"|\n",
    "my_stop_words = my_stop_words.union([\"@VirginAmerica\", \"united\",\"flight\",\"AmericanAir\",\"USAirways\",\"SouthwestAir\",\"JetBlue\"])\n",
    "word_cloud = WordCloud(stopwords=my_stop_words, regexp=r'\\b[^\\d\\W][^\\d\\W]+\\b').generate(joined_negative_tweets)\n",
    "\n",
    "#show word cloud\n",
    "plt.imshow(word_cloud, interpolation=\"bilinear\")\n",
    "plt.axis(\"off\")\n",
    "\n",
    "\n"
   ]
  },
  {
   "cell_type": "code",
   "execution_count": null,
   "id": "efbb2542",
   "metadata": {},
   "outputs": [],
   "source": [
    "from wordcloud import WordCloud, STOPWORDS\n",
    "# Building a word cloud for negative tweet text\n",
    "# positive_neutral_tweets = tweets[\"text\"][~tweets[\"airline_sentiment\"] ==\"negative\"]\n",
    "positive_neutral_tweets = tweets[\"text\"][tweets[\"airline_sentiment\"] !=\"negative\"]\n",
    "joined_positive_neutral_tweets = \"\".join(positive_neutral_tweets)\n",
    "\n",
    "my_stop_words = set(STOPWORDS)\n",
    "# reg = r\"@\"|\n",
    "my_stop_words = my_stop_words.union([\"@VirginAmerica\", \"united\",\"flight\",\"AmericanAir\",\"USAirways\",\"SouthwestAir\", \"JetBlue\",\"VirginAmerica\",\"co\", \"t\"])\n",
    "word_cloud = WordCloud(background_color=\"white\", stopwords=my_stop_words, regexp=r'\\b[^\\d\\W][^\\d\\W]+\\b').generate(joined_positive_neutral_tweets)\n",
    "\n",
    "#show word cloud\n",
    "plt.imshow(word_cloud, interpolation=\"bilinear\")\n",
    "plt.axis(\"off\")\n",
    "\n",
    "\n"
   ]
  },
  {
   "cell_type": "code",
   "execution_count": null,
   "id": "8e3cc4b0",
   "metadata": {},
   "outputs": [],
   "source": []
  },
  {
   "cell_type": "markdown",
   "id": "723fe039",
   "metadata": {},
   "source": [
    "### Data Preprocessing and Feature Engineering"
   ]
  },
  {
   "cell_type": "code",
   "execution_count": null,
   "id": "31c5788d",
   "metadata": {},
   "outputs": [],
   "source": [
    "tweets = tweets[[\"text\",\"airline_sentiment\"]]"
   ]
  },
  {
   "cell_type": "code",
   "execution_count": null,
   "id": "b875787d",
   "metadata": {},
   "outputs": [],
   "source": [
    "#Encode the target label\n",
    "from sklearn.preprocessing  import LabelEncoder\n",
    "le = LabelEncoder()\n",
    "tweets.airline_sentiment = le.fit_transform(tweets.airline_sentiment)"
   ]
  },
  {
   "cell_type": "code",
   "execution_count": null,
   "id": "f5a48d1d",
   "metadata": {},
   "outputs": [],
   "source": [
    "# Defie the text preprocessor function\n",
    "def preprocessor(text):\n",
    "    text = re.sub(r\"@[d W]+\", \"\", text)\n",
    "    emoticons = re.findall('(?::|;|=)(?:-)?(?:\\)|\\(|D|P)', text)\n",
    "    text = (re.sub('[\\W]+', ' ', text.lower()) + ' '.join(emoticons).replace('-', ''))\n",
    "    \n",
    "    return text\n",
    " "
   ]
  },
  {
   "cell_type": "code",
   "execution_count": null,
   "id": "56f41401",
   "metadata": {},
   "outputs": [],
   "source": [
    "# Cleaning the text\n",
    "tweets.text = tweets.text.apply(preprocessor)"
   ]
  },
  {
   "cell_type": "code",
   "execution_count": null,
   "id": "148113e7",
   "metadata": {},
   "outputs": [],
   "source": [
    "# Add text_length feature\n",
    "from nltk import word_tokenize\n",
    "tokens = [word_tokenize(word) for word in tweets.text]\n",
    "length =[] \n",
    "for i in range(len(tokens)):\n",
    "    length.append(len(tokens[i]))\n",
    "    \n",
    "tweets[\"text_length\"] = length"
   ]
  },
  {
   "cell_type": "markdown",
   "id": "6d8bd07b",
   "metadata": {},
   "source": [
    "## Building the Classifier"
   ]
  },
  {
   "cell_type": "code",
   "execution_count": null,
   "id": "beb087c9",
   "metadata": {},
   "outputs": [],
   "source": [
    "Form nltk import word_tokenize, PoterStemmer, stopwords\n",
    "\n",
    "#defining the stop words\n",
    "stop_words = stopwords\n",
    "stop_words_2 = set(stopwords).union(\"AmericanAir\",\"USAirways\",\"SouthwestAir\", \"JetBlue\",\"VirginAmerica\")\n",
    "\n",
    "def tokenizer(text):\n",
    "    return [word_tokenize(text)]\n",
    "\n",
    "def tokenizer_porter(text):\n",
    "    return [poterStemmer().stem(text)]"
   ]
  },
  {
   "cell_type": "code",
   "execution_count": null,
   "id": "acba89f3",
   "metadata": {},
   "outputs": [],
   "source": [
    "# Define X and y\n",
    "y = tweets.airline_sentiment\n",
    "X = tweets.drop('airline_sentiment', axis=1)\n"
   ]
  },
  {
   "cell_type": "code",
   "execution_count": null,
   "id": "54c5037a",
   "metadata": {},
   "outputs": [],
   "source": [
    "from sklearn.model_selection import train_test_split\n",
    "# Train/test split\n",
    "X_train, X_test, y_train, y_test = train_test_split(X, y, test_size=0.2, random_state=456)"
   ]
  },
  {
   "cell_type": "markdown",
   "id": "544f95d9",
   "metadata": {},
   "source": [
    "#### Traing a Logistic Regression Model"
   ]
  },
  {
   "cell_type": "code",
   "execution_count": null,
   "id": "83eb98b8",
   "metadata": {},
   "outputs": [],
   "source": [
    "from  sklearn.model_selection import GridSearchCV\n",
    "from sklearn.pipeline import Pipeline\n",
    "from sklearn.linear_moddel import LogisticRegression\n",
    "from sklearn.feature_extraction.text import TfidfVectorizer\n",
    "\n",
    "tfidf = TfidfVectorizer(lowercase=False)\n",
    "\n",
    "param_grid =[\n",
    "    {\n",
    "        \"vect__ngram_range\" : [(1,1),(1,2)],\n",
    "        \"vect__stop_words\" : [None, stop_words_1],\n",
    "        \"vect__tokenize\" : [tokenizer, tokenizer_porter],\n",
    "        \"clf__penalty\" : [\"l2\",\"l1\"],\n",
    "        \"clf__C\" : [0.1, 10.0]\n",
    "    },\n",
    "    {\n",
    "        \"vect__ngram_range\" : [(1,1),(1,2)],\n",
    "        \"vect__stop_words\" : [stop_words_1, stop_words_2],\n",
    "        \"vect__tokenize\" : [tokenizer],\n",
    "        \"vect__use_idf\" : [False],\n",
    "        \"vect__norm\" : [None],\n",
    "        \"clf__penalty\" : [\"l2\",\"l1\"],\n",
    "        \"clf__C\" : [1.0, 10.0]\n",
    "        \n",
    "    }\n",
    "]\n",
    "\n",
    "lr_tfidf = Pipeline([(\"vect\", tfidf), (\"clf\", LogisticRegression())])\n",
    "\n",
    "gs_lr_tfidf = GridSearchCV(lr_tfidf, small_param_grid, scoring='accuracy', cv=5, verbose=2, n_jobs=1)\n",
    "\n",
    "gs_lr_tfidf.fit(X_train, y_train)\n",
    "\n",
    "    \n",
    "\n"
   ]
  },
  {
   "cell_type": "code",
   "execution_count": null,
   "id": "9bf4d517",
   "metadata": {},
   "outputs": [],
   "source": [
    "print(gs_lr_tfidf.best_params_)\n",
    "print(gs_lr_tfidf.best_score)"
   ]
  },
  {
   "cell_type": "code",
   "execution_count": null,
   "id": "abfd79b5",
   "metadata": {},
   "outputs": [],
   "source": [
    "y_predicted = gs_lr_tfidf.best_estimator_.predict(X_test)"
   ]
  },
  {
   "cell_type": "code",
   "execution_count": null,
   "id": "cdcef2fa",
   "metadata": {},
   "outputs": [],
   "source": [
    "gs_lr_tfidf.best_estimator_.score(X_test, y_test)"
   ]
  },
  {
   "cell_type": "code",
   "execution_count": null,
   "id": "5ded2824",
   "metadata": {},
   "outputs": [],
   "source": [
    "# from sklearn.feature_extraction.text import TfidfVectorizer, ENGLISH_STOP_WORDS\n",
    "\n",
    "# # Build the vectorizer\n",
    "# vect = TfidfVectorizer(stop_words=ENGLISH_STOP_WORDS, ngram_range=(1, 2), max_features=200,\n",
    "#                     token_pattern=r'\\b[^\\d\\W][^\\d\\W]+\\b').fit(tweets.text)\n",
    "# # Create sparse matrix from the vectorizer\n",
    "# X_tfidf = vect.transform(tweets.text)\n",
    "\n",
    "# # Create a DataFrame\n",
    "# X_tfidf_transformed = pd.DataFrame(X_tfidf.toarray(), columns=vect.get_feature_names_out())\n",
    "# X_tfidf_transformed.head()\n",
    "# # can also do this: max_df= 0.9, min_df=0.01"
   ]
  },
  {
   "cell_type": "code",
   "execution_count": null,
   "id": "4e4c6202",
   "metadata": {},
   "outputs": [],
   "source": []
  },
  {
   "cell_type": "code",
   "execution_count": null,
   "id": "f53893cc",
   "metadata": {},
   "outputs": [],
   "source": []
  },
  {
   "cell_type": "code",
   "execution_count": null,
   "id": "02974911",
   "metadata": {},
   "outputs": [],
   "source": [
    "tweets"
   ]
  },
  {
   "cell_type": "code",
   "execution_count": null,
   "id": "dbc9accc",
   "metadata": {},
   "outputs": [],
   "source": [
    "data = pd.concat([ X_tfidf_transformed, tweets], axis=1)"
   ]
  },
  {
   "cell_type": "code",
   "execution_count": null,
   "id": "f7e24cda",
   "metadata": {},
   "outputs": [],
   "source": [
    "data"
   ]
  },
  {
   "cell_type": "code",
   "execution_count": null,
   "id": "5fb1eb54",
   "metadata": {},
   "outputs": [],
   "source": [
    "# Lastly, build the classifier\n"
   ]
  },
  {
   "cell_type": "code",
   "execution_count": null,
   "id": "aa72edfd",
   "metadata": {},
   "outputs": [],
   "source": []
  },
  {
   "cell_type": "code",
   "execution_count": null,
   "id": "2666191d",
   "metadata": {},
   "outputs": [],
   "source": [
    "from sklearn.linear_model import LogisticRegression\n",
    "from sklearn.metrics import accuracy_score, confusion_matrix\n",
    "\n",
    "# Train a logistic regression\n",
    "log_reg = LogisticRegression(solver=\"newton-cg\", C= 1).fit(X_train, y_train)\n",
    "\n",
    "# Predict the labels\n",
    "y_predicted = log_reg.predict(X_test)\n",
    "\n",
    "# Print accuracy score and confusion matrix on test set\n",
    "print('Accuracy on the test set: ', accuracy_score(y_test, y_predicted))\n",
    "# print(confusion_matrix(y_test, y_predicted)/len(y_test))\n",
    "print(confusion_matrix(y_test, y_predicted))"
   ]
  },
  {
   "cell_type": "code",
   "execution_count": null,
   "id": "7c203e95",
   "metadata": {},
   "outputs": [],
   "source": []
  }
 ],
 "metadata": {
  "kernelspec": {
   "display_name": "Python 3 (ipykernel)",
   "language": "python",
   "name": "python3"
  },
  "language_info": {
   "codemirror_mode": {
    "name": "ipython",
    "version": 3
   },
   "file_extension": ".py",
   "mimetype": "text/x-python",
   "name": "python",
   "nbconvert_exporter": "python",
   "pygments_lexer": "ipython3",
   "version": "3.9.13"
  }
 },
 "nbformat": 4,
 "nbformat_minor": 5
}
